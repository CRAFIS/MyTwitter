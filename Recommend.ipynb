{
 "cells": [
  {
   "cell_type": "code",
   "execution_count": null,
   "metadata": {},
   "outputs": [],
   "source": [
    "import MyTwitter\n",
    "import random\n",
    "import sqlite3\n",
    "import json"
   ]
  },
  {
   "cell_type": "code",
   "execution_count": null,
   "metadata": {},
   "outputs": [],
   "source": [
    "def getFriends(name):\n",
    "    twitter, user_id = MyTwitter.login(name)\n",
    "    connection = sqlite3.connect('twitter.db')\n",
    "    cursor = connection.cursor()\n",
    "    friends = []\n",
    "    for data in cursor.execute(\"SELECT id FROM friend WHERE type = ?\", (name,)):\n",
    "        friends.append(data[0])\n",
    "    friends = MyTwitter.getUserList(twitter, friends)\n",
    "    return friends\n",
    "\n",
    "def getFavData(tweets, day):\n",
    "    tweets_after = [t for t in tweets if not MyTwitter.isTimeover(t['created_at'], day)]\n",
    "    tweets_before = [t['id_str'] for t in tweets if not MyTwitter.isTimeover(t['created_at'], day - 1)]\n",
    "    tweets_after = [t for t in tweets_after if t['id_str'] not in tweets_before]\n",
    "    favourites = len(tweets_after)\n",
    "    favourites_people = len(list(set([(t['user']['id_str'], t['user']['screen_name']) for t in tweets_after])))\n",
    "    return favourites, favourites_people\n",
    "\n",
    "def preprocess(twitter, users, count = 0):\n",
    "    data = []\n",
    "    print(\"Number of User\")\n",
    "    print(f\"Before:\\t{len(users)}\")\n",
    "    users = [user for user in users if user['followers_count'] < user['friends_count'] < 800]\n",
    "    relations = MyTwitter.getFriendship(twitter, userIDList = [user['id_str'] for user in users])\n",
    "    users = [user for user, relation in zip(users, relations) if 'following' not in relation['connections']]\n",
    "    print(f\"After:\\t{len(users)}\\n\")\n",
    "    users = random.sample(users, count) if count else users\n",
    "    for i, user in enumerate(users):\n",
    "        if user['protected']: continue\n",
    "        print(f\"{i+1} / {len(users)}\")\n",
    "        tweets = MyTwitter.getFavTweetList(twitter, user['id_str'], 5000, loop = True, day = 5)\n",
    "        print(f\"Tweets: {len(tweets)}\", end = '\\t')\n",
    "        tweets = [t for t in tweets if t['retweet_count'] < 20 and t['favorite_count'] < 50 and not t['entities'].get('media')]\n",
    "        print(f\"Preprocess: {len(tweets)}\\n\")\n",
    "        data_dict = {\n",
    "            'id_str': user['id_str'],\n",
    "            'name': user['name'],\n",
    "            'screen_name': user['screen_name'],\n",
    "            'friends_count': user['friends_count'],\n",
    "            'followers_count': user['followers_count'],\n",
    "            'statuses_count': user['statuses_count'],\n",
    "            'favourites_count': user['favourites_count']\n",
    "        }\n",
    "        data_dict['favourites_1day'], data_dict['favourites_people_1day'] = getFavData(tweets, 1)\n",
    "        data_dict['favourites_2day'], data_dict['favourites_people_2day'] = getFavData(tweets, 2)\n",
    "        data_dict['favourites_3day'], data_dict['favourites_people_3day'] = getFavData(tweets, 3)\n",
    "        data_dict['favourites_4day'], data_dict['favourites_people_4day'] = getFavData(tweets, 4)\n",
    "        data_dict['favourites_5day'], data_dict['favourites_people_5day'] = getFavData(tweets, 5)\n",
    "        data.append(data_dict)\n",
    "    return data"
   ]
  },
  {
   "cell_type": "code",
   "execution_count": null,
   "metadata": {},
   "outputs": [],
   "source": [
    "# フォロワー表示\n",
    "friends = getFriends('main')\n",
    "for friend in friends:\n",
    "    print(f\"{friend['name']}\\n{friend['id_str']}\\n\")"
   ]
  },
  {
   "cell_type": "code",
   "execution_count": null,
   "metadata": {},
   "outputs": [],
   "source": [
    "# 対象ユーザーのフレンドからデータ取得\n",
    "twitter, user_id = MyTwitter.login('main')\n",
    "user_id = '0123456789'\n",
    "users = MyTwitter.getFollowing(twitter, user_id)\n",
    "data = preprocess(twitter, users)"
   ]
  },
  {
   "cell_type": "code",
   "execution_count": null,
   "metadata": {
    "scrolled": true
   },
   "outputs": [],
   "source": [
    "# タグ検索からデータ取得\n",
    "twitter, user_id = MyTwitter.login('main')\n",
    "tagList = [\n",
    "    \"#ハムスター\",\n",
    "    \"#ハムスターのいる生活\",\n",
    "    \"#ハムスター好きと繋がりたい\"\n",
    "]\n",
    "keyword = \" OR \".join(tagList)\n",
    "url = \"https://api.twitter.com/1.1/search/tweets.json\"\n",
    "params = {\n",
    "    'q': keyword,\n",
    "    'lang': 'ja',\n",
    "    'result_type': 'recent',\n",
    "    'count': 100\n",
    "}\n",
    "tweetList, users = [], []\n",
    "for i in range(50):\n",
    "    req = twitter.get(url, params = params)\n",
    "    if req.status_code == 200:\n",
    "        timeline = json.loads(req.text)\n",
    "        tweetList.extend(timeline['statuses'])\n",
    "    else:\n",
    "        break\n",
    "userList = [tweet['user'] for tweet in tweetList if tweet['entities']['user_mentions'] == [] and tweet['entities']['urls'] == [] and tweet['entities'].get('media')]\n",
    "for user in userList:\n",
    "    if user not in users:\n",
    "        users.append(user)\n",
    "data = preprocess(twitter, users)"
   ]
  },
  {
   "cell_type": "code",
   "execution_count": null,
   "metadata": {},
   "outputs": [],
   "source": [
    "# データ表示\n",
    "key = lambda i: f'favourites_people_{i}day'\n",
    "total = lambda d: d[key(1)] + d[key(2)] + d[key(3)] + d[key(4)] + d[key(5)]\n",
    "data = sorted(data, key = lambda d: total(d), reverse = True)\n",
    "for d in data:\n",
    "    for k, v in d.items():\n",
    "        print(f\"{k}\\t{v}\")\n",
    "    print(f\"link: https://twitter.com/{d['screen_name']}\\n\")"
   ]
  }
 ],
 "metadata": {
  "kernelspec": {
   "display_name": "Python 3",
   "language": "python",
   "name": "python3"
  },
  "language_info": {
   "codemirror_mode": {
    "name": "ipython",
    "version": 3
   },
   "file_extension": ".py",
   "mimetype": "text/x-python",
   "name": "python",
   "nbconvert_exporter": "python",
   "pygments_lexer": "ipython3",
   "version": "3.7.3"
  }
 },
 "nbformat": 4,
 "nbformat_minor": 2
}
